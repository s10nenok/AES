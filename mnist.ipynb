{
  "nbformat": 4,
  "nbformat_minor": 0,
  "metadata": {
    "colab": {
      "provenance": [],
      "authorship_tag": "ABX9TyPmdBEo+ejwwTLlx/qKlKrj",
      "include_colab_link": true
    },
    "kernelspec": {
      "name": "python3",
      "display_name": "Python 3"
    },
    "language_info": {
      "name": "python"
    }
  },
  "cells": [
    {
      "cell_type": "markdown",
      "metadata": {
        "id": "view-in-github",
        "colab_type": "text"
      },
      "source": [
        "<a href=\"https://colab.research.google.com/github/s10nenok/AES/blob/main/mnist.ipynb\" target=\"_parent\"><img src=\"https://colab.research.google.com/assets/colab-badge.svg\" alt=\"Open In Colab\"/></a>"
      ]
    },
    {
      "cell_type": "code",
      "source": [
        "import gzip\n",
        "import torch\n",
        "import torchvision\n",
        "import numpy as np\n",
        "from torchvision import transforms, datasets\n",
        "import matplotlib.pyplot as plt\n",
        "import random \n",
        "\n",
        "train = datasets.MNIST('', train=True, download=True,\n",
        "                       transform=transforms.Compose([\n",
        "                           transforms.ToTensor()\n",
        "                       ]))\n",
        "\n",
        "test = datasets.MNIST('', train=False, download=True,\n",
        "                       transform=transforms.Compose([\n",
        "                           transforms.ToTensor()\n",
        "                       ]))\n",
        "\n",
        "\n",
        "\n",
        "\n",
        "def read_train():\n",
        "    reorder_type = np.dtype(np.int32).newbyteorder('>')\n",
        "    way = 'MNIST/raw/'\n",
        "    tr_im_way = way+'train-images-idx3-ubyte.gz'\n",
        "    tr_im = gzip.open(tr_im_way,'r')\n",
        "            \n",
        "    image_magic_number = np.frombuffer(tr_im.read(4), dtype=reorder_type)[0]\n",
        "    num_images = np.frombuffer(tr_im.read(4), dtype=reorder_type)[0]\n",
        "    image_rows = np.frombuffer(tr_im.read(4), dtype=reorder_type)[0]\n",
        "    image_columns = np.frombuffer(tr_im.read(4), dtype=reorder_type)[0]\n",
        "\n",
        "    buffer = tr_im.read(num_images * image_rows * image_columns)\n",
        "\n",
        "    images = np.frombuffer(buffer, dtype = np.uint8).astype(np.float32)\n",
        "    images = np.reshape(images, (num_images, 784))\n",
        "    images = images/255\n",
        "\n",
        "    images = torch.tensor(images)\n",
        "\n",
        "    \n",
        "    tr_im.close()\n",
        "\n",
        "    \n",
        "    \n",
        "    tr_lb_way = way+'train-labels-idx1-ubyte.gz'\n",
        "    tr_lb = gzip.open(tr_lb_way,'r')\n",
        "\n",
        "    label_magic_number = np.frombuffer(tr_lb.read(4), dtype=reorder_type).astype(np.int64)[0]\n",
        "    num_labels = np.frombuffer(tr_lb.read(4), dtype=reorder_type).astype(np.int64)[0]\n",
        "    buffer = tr_lb.read(num_labels)\n",
        "    labels = np.frombuffer(buffer, dtype = np.uint8)\n",
        "    labels = torch.tensor(labels, dtype = torch.long)\n",
        "\n",
        "    tr_lb.close()\n",
        "\n",
        "    permutation = np.random.permutation(len(labels)) \n",
        "    images = images[permutation] \n",
        "    labels = labels[permutation]\n",
        "\n",
        "    print(images)\n",
        "    print(len(images))\n",
        "\n",
        "    print(labels)\n",
        "    print(len(labels))\n",
        "\n",
        "    plt.imshow(images[0].view(28,28))\n",
        "    plt.show()\n",
        "\n",
        "    images = np.roll(images, random.randint(0,len(images)))\n",
        "\n",
        "    print(images)\n",
        "    print(len(images))\n",
        "\n",
        "    print(labels)\n",
        "    print(len(labels))\n",
        "\n",
        "    plt.imshow(images[0].view(28,28))\n",
        "    plt.show()\n",
        "\n",
        "\n",
        "def rotate(images):\n",
        "    for i in range(len(images)):\n",
        "      angle = random.randint(-90,90)\n",
        "      images[i] = np.rot90(images[i], int(angle/90))\n",
        "\n",
        "\n",
        "def read_test():\n",
        "    way = 'MNIST/raw/'\n",
        "    test_im_way = way+'t10k-images-idx3-ubyte.gz'\n",
        "    test_im = gzip.open(test_im_way,'rb')\n",
        "    test_im.read(16)\n",
        "   \n",
        "    test_lb_way = way+'t10k-labels-idx1-ubyte.gz'\n",
        "    test_lb = gzip.open(test_lb_way,'rb')\n",
        "    test_lb.read(8)\n",
        "\n",
        "    labels_test = np.fromfile(test_lb, dtype=np.uint8)\n",
        "    images_test = np.fromfile(test_im, dtype=np.uint8).reshape(len(labels_test), 784) / 255\n",
        "\n",
        "    test_im.close()\n",
        "    test_lb.close()\n",
        "    return images_test, labels_test\n",
        "\n",
        "\n",
        "\n",
        "#################\n",
        "read_train()\n",
        "##read_test()\n",
        "\n",
        "\n"
      ],
      "metadata": {
        "id": "n5JZb_n9rdFK",
        "colab": {
          "base_uri": "https://localhost:8080/",
          "height": 952
        },
        "outputId": "f8987ab4-3177-45d5-8fb8-50f096892a09"
      },
      "execution_count": 17,
      "outputs": [
        {
          "output_type": "stream",
          "name": "stdout",
          "text": [
            "tensor([[0., 0., 0.,  ..., 0., 0., 0.],\n",
            "        [0., 0., 0.,  ..., 0., 0., 0.],\n",
            "        [0., 0., 0.,  ..., 0., 0., 0.],\n",
            "        ...,\n",
            "        [0., 0., 0.,  ..., 0., 0., 0.],\n",
            "        [0., 0., 0.,  ..., 0., 0., 0.],\n",
            "        [0., 0., 0.,  ..., 0., 0., 0.]])\n",
            "60000\n",
            "tensor([8, 7, 7,  ..., 7, 4, 7])\n",
            "60000\n"
          ]
        },
        {
          "output_type": "display_data",
          "data": {
            "text/plain": [
              "<Figure size 432x288 with 1 Axes>"
            ],
            "image/png": "[encoded data removed]"
          },
          "metadata": {
            "needs_background": "light"
          }
        },
        {
          "output_type": "stream",
          "name": "stdout",
          "text": [
            "[[0. 0. 0. ... 0. 0. 0.]\n",
            " [0. 0. 0. ... 0. 0. 0.]\n",
            " [0. 0. 0. ... 0. 0. 0.]\n",
            " ...\n",
            " [0. 0. 0. ... 0. 0. 0.]\n",
            " [0. 0. 0. ... 0. 0. 0.]\n",
            " [0. 0. 0. ... 0. 0. 0.]]\n",
            "60000\n",
            "tensor([8, 7, 7,  ..., 7, 4, 7])\n",
            "60000\n"
          ]
        },
        {
          "output_type": "error",
          "ename": "ValueError",
          "evalue": "ignored",
          "traceback": [
            "\u001b[0;31m---------------------------------------------------------------------------\u001b[0m",
            "\u001b[0;31mValueError\u001b[0m                                Traceback (most recent call last)",
            "\u001b[0;32m<ipython-input-17-2247b3c84d21>\u001b[0m in \u001b[0;36m<module>\u001b[0;34m\u001b[0m\n\u001b[1;32m    106\u001b[0m \u001b[0;34m\u001b[0m\u001b[0m\n\u001b[1;32m    107\u001b[0m \u001b[0;31m#################\u001b[0m\u001b[0;34m\u001b[0m\u001b[0;34m\u001b[0m\u001b[0m\n\u001b[0;32m--> 108\u001b[0;31m \u001b[0mread_train\u001b[0m\u001b[0;34m(\u001b[0m\u001b[0;34m)\u001b[0m\u001b[0;34m\u001b[0m\u001b[0;34m\u001b[0m\u001b[0m\n\u001b[0m\u001b[1;32m    109\u001b[0m \u001b[0;31m##read_test()\u001b[0m\u001b[0;34m\u001b[0m\u001b[0;34m\u001b[0m\u001b[0m\n\u001b[1;32m    110\u001b[0m \u001b[0;34m\u001b[0m\u001b[0m\n",
            "\u001b[0;32m<ipython-input-17-2247b3c84d21>\u001b[0m in \u001b[0;36mread_train\u001b[0;34m()\u001b[0m\n\u001b[1;32m     76\u001b[0m     \u001b[0mprint\u001b[0m\u001b[0;34m(\u001b[0m\u001b[0mlen\u001b[0m\u001b[0;34m(\u001b[0m\u001b[0mlabels\u001b[0m\u001b[0;34m)\u001b[0m\u001b[0;34m)\u001b[0m\u001b[0;34m\u001b[0m\u001b[0;34m\u001b[0m\u001b[0m\n\u001b[1;32m     77\u001b[0m \u001b[0;34m\u001b[0m\u001b[0m\n\u001b[0;32m---> 78\u001b[0;31m     \u001b[0mplt\u001b[0m\u001b[0;34m.\u001b[0m\u001b[0mimshow\u001b[0m\u001b[0;34m(\u001b[0m\u001b[0mimages\u001b[0m\u001b[0;34m[\u001b[0m\u001b[0;36m0\u001b[0m\u001b[0;34m]\u001b[0m\u001b[0;34m.\u001b[0m\u001b[0mview\u001b[0m\u001b[0;34m(\u001b[0m\u001b[0;36m28\u001b[0m\u001b[0;34m,\u001b[0m\u001b[0;36m28\u001b[0m\u001b[0;34m)\u001b[0m\u001b[0;34m)\u001b[0m\u001b[0;34m\u001b[0m\u001b[0;34m\u001b[0m\u001b[0m\n\u001b[0m\u001b[1;32m     79\u001b[0m     \u001b[0mplt\u001b[0m\u001b[0;34m.\u001b[0m\u001b[0mshow\u001b[0m\u001b[0;34m(\u001b[0m\u001b[0;34m)\u001b[0m\u001b[0;34m\u001b[0m\u001b[0;34m\u001b[0m\u001b[0m\n\u001b[1;32m     80\u001b[0m \u001b[0;34m\u001b[0m\u001b[0m\n",
            "\u001b[0;31mValueError\u001b[0m: Type must be a sub-type of ndarray type"
          ]
        }
      ]
    }
  ]
}